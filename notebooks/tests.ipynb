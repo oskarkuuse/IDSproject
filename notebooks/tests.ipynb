{
 "cells": [
  {
   "cell_type": "code",
   "execution_count": 1,
   "metadata": {
    "collapsed": true,
    "pycharm": {
     "name": "#%%\n"
    }
   },
   "outputs": [],
   "source": [
    "import pandas as pd\n",
    "import matplotlib.pyplot as plt\n",
    "import numpy as np"
   ]
  },
  {
   "cell_type": "code",
   "execution_count": 6,
   "outputs": [
    {
     "data": {
      "text/plain": "1040.5142428785607"
     },
     "execution_count": 6,
     "metadata": {},
     "output_type": "execute_result"
    }
   ],
   "source": [
    "df = pd.read_csv(\"../datasets/demo1.csv\")\n",
    "# df['average'].mean()\n",
    "total = 0\n",
    "finished = 0\n",
    "for i in range(len(df)):\n",
    "    val = df.iloc[i]['average']\n",
    "    if val > 0:\n",
    "        total += val\n",
    "        finished += 1\n",
    "\n",
    "total / finished\n",
    "\n"
   ],
   "metadata": {
    "collapsed": false,
    "pycharm": {
     "name": "#%%\n"
    }
   }
  },
  {
   "cell_type": "code",
   "execution_count": 77,
   "outputs": [
    {
     "name": "stderr",
     "output_type": "stream",
     "text": [
      "C:\\Users\\karlo\\AppData\\Local\\Temp\\ipykernel_65756\\3297434191.py:4: SettingWithCopyWarning: \n",
      "A value is trying to be set on a copy of a slice from a DataFrame.\n",
      "Try using .loc[row_indexer,col_indexer] = value instead\n",
      "\n",
      "See the caveats in the documentation: https://pandas.pydata.org/pandas-docs/stable/user_guide/indexing.html#returning-a-view-versus-a-copy\n",
      "  corr333['AVG'] = corr333['AVG'] / max(corr333['AVG'])\n"
     ]
    },
    {
     "data": {
      "text/plain": "       eventId    personId       AVG\n17017      333  2012PARK03  0.009256",
      "text/html": "<div>\n<style scoped>\n    .dataframe tbody tr th:only-of-type {\n        vertical-align: middle;\n    }\n\n    .dataframe tbody tr th {\n        vertical-align: top;\n    }\n\n    .dataframe thead th {\n        text-align: right;\n    }\n</style>\n<table border=\"1\" class=\"dataframe\">\n  <thead>\n    <tr style=\"text-align: right;\">\n      <th></th>\n      <th>eventId</th>\n      <th>personId</th>\n      <th>AVG</th>\n    </tr>\n  </thead>\n  <tbody>\n    <tr>\n      <th>17017</th>\n      <td>333</td>\n      <td>2012PARK03</td>\n      <td>0.009256</td>\n    </tr>\n  </tbody>\n</table>\n</div>"
     },
     "execution_count": 77,
     "metadata": {},
     "output_type": "execute_result"
    }
   ],
   "source": [
    "corr333_444 = pd.read_csv(\"../datasets/corr333-444.csv\")\n",
    "\n",
    "corr333 = corr333_444[corr333_444['eventId'] == 333]\n",
    "corr333['AVG'] = corr333['AVG'] / max(corr333['AVG'])\n",
    "\n",
    "corr444 = corr333_444[corr333_444['eventId'] == 444].reset_index().drop(columns=['index'])\n",
    "corr444['AVG'] = corr444['AVG'] / max(corr444['AVG'])\n",
    "\n",
    "corr333[corr333['personId'] == '2012PARK03']\n"
   ],
   "metadata": {
    "collapsed": false,
    "pycharm": {
     "name": "#%%\n"
    }
   }
  },
  {
   "cell_type": "code",
   "execution_count": null,
   "outputs": [],
   "source": [
    "def combineAverageDfs(event1, event2):\n",
    "    event1Name = f\"{event1['eventId'][0]}AVG\"\n",
    "    event2Name = f\"{event2['eventId'][0]}AVG\"\n",
    "\n",
    "    combinedDf = pd.DataFrame(columns=[event1Name, event2Name])\n",
    "    # combinedDf = combinedDf.append({event1Name: 0.22, event2Name:0.33}, ignore_index=True)\n",
    "    # combinedDf = combinedDf.append({event1Name: 0.22, event2Name:0.33}, ignore_index=True)\n",
    "\n",
    "    for i in range(len(event1)):\n",
    "        person = event1.iloc[0].personId\n",
    "        event2Row = event2[event2.personId == person]\n",
    "        if len(event2Row) != 0:\n",
    "            avg1 = event1.iloc[0].AVG\n",
    "            avg2 = event2Row.iloc[0].AVG\n",
    "            # newDf = pd.DataFrame({event1Name: avg1, event2Name: avg2})\n",
    "            # combinedDf = pd.concat([combinedDf, newDf])\n",
    "            combinedDf = combinedDf.append({event1Name: avg1, event2Name: avg2}, ignore_index=True)\n",
    "    return combinedDf\n",
    "\n",
    "a = combineAverageDfs(corr444, corr333)\n",
    "a\n",
    "\n",
    "# tail = pd.DataFrame({\"compAVG\": groupedMeans[30:].mean()[0]}, index=[30])"
   ],
   "metadata": {
    "collapsed": false,
    "pycharm": {
     "name": "#%%\n"
    }
   }
  }
 ],
 "metadata": {
  "kernelspec": {
   "display_name": "Python 3",
   "language": "python",
   "name": "python3"
  },
  "language_info": {
   "codemirror_mode": {
    "name": "ipython",
    "version": 2
   },
   "file_extension": ".py",
   "mimetype": "text/x-python",
   "name": "python",
   "nbconvert_exporter": "python",
   "pygments_lexer": "ipython2",
   "version": "2.7.6"
  }
 },
 "nbformat": 4,
 "nbformat_minor": 0
}